{
  "nbformat": 4,
  "nbformat_minor": 0,
  "metadata": {
    "colab": {
      "provenance": []
    },
    "kernelspec": {
      "name": "python3",
      "display_name": "Python 3"
    },
    "language_info": {
      "name": "python"
    }
  },
  "cells": [
    {
      "cell_type": "code",
      "execution_count": 5,
      "metadata": {
        "colab": {
          "base_uri": "https://localhost:8080/"
        },
        "id": "JeUzRJ7u0NBB",
        "outputId": "bd0ec495-4454-4fbc-ff92-37e2133e4a90"
      },
      "outputs": [
        {
          "output_type": "execute_result",
          "data": {
            "text/plain": [
              "[1672, 1703, 1705, 1612, 1639, 1669]"
            ]
          },
          "metadata": {},
          "execution_count": 5
        }
      ],
      "source": [
        "import random\n",
        "one=0\n",
        "two=0\n",
        "three=0\n",
        "four=0\n",
        "five=0\n",
        "six=0\n",
        "for i in range(10000):\n",
        "  result=random.randint(1,6)\n",
        "  if result==1:\n",
        "    one= one+1\n",
        "  elif result==2:\n",
        "    two = two+1\n",
        "  elif result==3:\n",
        "    three = three+1\n",
        "  elif result==4:\n",
        "    four = four+1\n",
        "  elif result ==5:\n",
        "    five = five+1\n",
        "  else:\n",
        "     result ==6\n",
        "     six = six+1\n",
        "\n",
        "total_result=[one,two,three,four,five,six]\n",
        "total_result"
      ]
    },
    {
      "cell_type": "code",
      "source": [
        "#probabilities of each number getting\n",
        "prob_rolls=[]\n",
        "for i in range(6):\n",
        "  a=total_result[i]/100\n",
        "  prob_rolls.append(a)\n",
        "prob_rolls"
      ],
      "metadata": {
        "colab": {
          "base_uri": "https://localhost:8080/"
        },
        "id": "if5aniug0TO_",
        "outputId": "1fb1540b-428e-49a3-bb10-dd7e3309face"
      },
      "execution_count": 6,
      "outputs": [
        {
          "output_type": "execute_result",
          "data": {
            "text/plain": [
              "[16.72, 17.03, 17.05, 16.12, 16.39, 16.69]"
            ]
          },
          "metadata": {},
          "execution_count": 6
        }
      ]
    },
    {
      "cell_type": "code",
      "source": [],
      "metadata": {
        "id": "CSkmIWXH0wcv"
      },
      "execution_count": null,
      "outputs": []
    }
  ]
}