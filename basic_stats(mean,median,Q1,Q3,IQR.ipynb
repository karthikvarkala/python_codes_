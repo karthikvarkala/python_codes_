{
  "nbformat": 4,
  "nbformat_minor": 0,
  "metadata": {
    "colab": {
      "provenance": []
    },
    "kernelspec": {
      "name": "python3",
      "display_name": "Python 3"
    },
    "language_info": {
      "name": "python"
    }
  },
  "cells": [
    {
      "cell_type": "code",
      "execution_count": 1,
      "metadata": {
        "id": "0PidF_YzLoQG"
      },
      "outputs": [],
      "source": [
        "#funtion for finding mean, median, q1,q3,IQR\n",
        "\n",
        "def stats(lst):\n",
        "  stats=lst\n",
        "  stats.sort()\n",
        "  n=len(stats)\n",
        "  print(n)\n",
        "  print(\"sorted numbers\",stats)\n",
        "\n",
        "  #mean\n",
        "  get_sum=sum(stats)\n",
        "  mean= get_sum/n\n",
        "  print('mean value',mean)\n",
        "\n",
        "\n",
        " #median\n",
        "\n",
        "  if n % 2 == 0:\n",
        "    median1 = stats[n//2]\n",
        "    # print(median1)\n",
        "    median2 = stats[n//2 - 1]\n",
        "    # print(median2)\n",
        "    median = (median1 + median2)/2\n",
        "  else:\n",
        "    median = stats[n//2]\n",
        "  print(\"median value\",median)\n",
        "\n",
        " #q1,q2,IQR\n",
        "\n",
        "  q1=stats[(1*(n-1)//4)+1]\n",
        "  print('q1 value',q1)\n",
        "\n",
        "  q3=stats[(3*(n-1)//4)+1]\n",
        "  print('q3 value',q3)\n",
        "\n",
        "  IQR=q3-q1\n",
        "  print('IQR is',IQR)\n"
      ]
    },
    {
      "cell_type": "code",
      "source": [
        "stats([75, 69, 56, 46, 47, 79, 92, 97, 89, 88, 36, 96, 105, 32, 116, 101, 79, 93, 91, 112])"
      ],
      "metadata": {
        "colab": {
          "base_uri": "https://localhost:8080/"
        },
        "id": "W6J04_5tL23v",
        "outputId": "689724b0-065a-47a7-f5fb-a65fa7fa66f0"
      },
      "execution_count": 2,
      "outputs": [
        {
          "output_type": "stream",
          "name": "stdout",
          "text": [
            "20\n",
            "sorted numbers [32, 36, 46, 47, 56, 69, 75, 79, 79, 88, 89, 91, 92, 93, 96, 97, 101, 105, 112, 116]\n",
            "mean value 79.95\n",
            "median value 88.5\n",
            "q1 value 69\n",
            "q3 value 97\n",
            "IQR is 28\n"
          ]
        }
      ]
    },
    {
      "cell_type": "code",
      "source": [],
      "metadata": {
        "id": "GMeXvKvaL7Qe"
      },
      "execution_count": null,
      "outputs": []
    },
    {
      "cell_type": "code",
      "source": [],
      "metadata": {
        "colab": {
          "base_uri": "https://localhost:8080/"
        },
        "id": "kQ4uFGg5MPPW",
        "outputId": "9bf8adc0-d9cf-4f22-a541-79d1c585829c"
      },
      "execution_count": null,
      "outputs": [
        {
          "output_type": "execute_result",
          "data": {
            "text/plain": [
              "[1707, 1643, 1673, 1636, 1661, 1680]"
            ]
          },
          "metadata": {},
          "execution_count": 4
        }
      ]
    },
    {
      "cell_type": "code",
      "source": [],
      "metadata": {
        "colab": {
          "base_uri": "https://localhost:8080/"
        },
        "id": "O29Ax8ZbMVOX",
        "outputId": "89bd7ee1-f3ff-47d5-9c0f-0f54ab1c2629"
      },
      "execution_count": null,
      "outputs": [
        {
          "output_type": "execute_result",
          "data": {
            "text/plain": [
              "[17.07, 16.43, 16.73, 16.36, 16.61, 16.8]"
            ]
          },
          "metadata": {},
          "execution_count": 5
        }
      ]
    },
    {
      "cell_type": "code",
      "source": [],
      "metadata": {
        "id": "OZDeBAK8MYZV"
      },
      "execution_count": null,
      "outputs": []
    }
  ]
}